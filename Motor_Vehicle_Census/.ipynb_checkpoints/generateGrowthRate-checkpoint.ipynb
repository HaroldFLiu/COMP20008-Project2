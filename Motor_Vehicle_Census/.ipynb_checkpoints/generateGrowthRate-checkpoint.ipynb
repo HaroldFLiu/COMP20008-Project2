{
 "cells": [
  {
   "cell_type": "code",
   "execution_count": 22,
   "id": "14e134ad-b7f5-4ae2-8882-10ec2c403653",
   "metadata": {},
   "outputs": [],
   "source": [
    "import pandas as pd\n",
    "yearlynum = pd.read_csv(\"By year.csv\")\n",
    "yearlynumlabel = yearlynum['Vehicle Type']\n",
    "yearlygrowth = pd.read_csv('Difference by year.csv')"
   ]
  },
  {
   "cell_type": "code",
   "execution_count": 23,
   "id": "ce44b62b-05a4-4ca1-a5f6-ad87551b4744",
   "metadata": {},
   "outputs": [],
   "source": [
    "yearlygrowthrate = pd.DataFrame()"
   ]
  },
  {
   "cell_type": "code",
   "execution_count": 24,
   "id": "7965cc92-18a5-41c0-a30c-4ad8ba865649",
   "metadata": {},
   "outputs": [],
   "source": [
    "for i in range(2014,2020):\n",
    "    prevyr = str(i)\n",
    "    nextyr = str(i+1)\n",
    "    label = prevyr + \"-\" + nextyr\n",
    "    yearlygrowthrate[label] = yearlygrowth[label]/yearlynum[prevyr]\n"
   ]
  },
  {
   "cell_type": "code",
   "execution_count": 27,
   "id": "d9cfbdde-78f5-4df7-bd69-a837b704827f",
   "metadata": {},
   "outputs": [],
   "source": [
    "yearlygrowthrate=yearlygrowthrate.transpose()"
   ]
  },
  {
   "cell_type": "code",
   "execution_count": 28,
   "id": "5fc1476d-96fa-4fd9-a819-601d8be93989",
   "metadata": {},
   "outputs": [],
   "source": [
    "yearlygrowthrate.columns =  yearlynumlabel"
   ]
  },
  {
   "cell_type": "code",
   "execution_count": 30,
   "id": "9303dae3-d64a-46fb-a17e-f76dfbeb2bcb",
   "metadata": {},
   "outputs": [],
   "source": [
    "yearlygrowthrate = yearlygrowthrate.rename(columns={'Vehicle Type': 'Year'})"
   ]
  },
  {
   "cell_type": "code",
   "execution_count": 32,
   "id": "3d212a3e-e79e-48f5-93d0-2bc9f55709c4",
   "metadata": {},
   "outputs": [],
   "source": [
    "yearlygrowthrate.to_csv('Growth rate by year.csv')"
   ]
  },
  {
   "cell_type": "code",
   "execution_count": null,
   "id": "57a7e891-c268-472d-b0d9-e5a419eb00fd",
   "metadata": {},
   "outputs": [],
   "source": []
  }
 ],
 "metadata": {
  "kernelspec": {
   "display_name": "Python 3",
   "language": "python",
   "name": "python3"
  },
  "language_info": {
   "codemirror_mode": {
    "name": "ipython",
    "version": 3
   },
   "file_extension": ".py",
   "mimetype": "text/x-python",
   "name": "python",
   "nbconvert_exporter": "python",
   "pygments_lexer": "ipython3",
   "version": "3.8.8"
  }
 },
 "nbformat": 4,
 "nbformat_minor": 5
}
