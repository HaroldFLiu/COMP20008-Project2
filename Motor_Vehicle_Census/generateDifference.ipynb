{
 "cells": [
  {
   "cell_type": "code",
   "execution_count": 63,
   "id": "14e134ad-b7f5-4ae2-8882-10ec2c403653",
   "metadata": {},
   "outputs": [],
   "source": [
    "import pandas as pd\n",
    "df = pd.read_csv(\"By year.csv\")\n",
    "dflabel = df['Vehicle Type']\n",
    "df = df.drop(df.columns[0], axis=1)"
   ]
  },
  {
   "cell_type": "code",
   "execution_count": 64,
   "id": "ce44b62b-05a4-4ca1-a5f6-ad87551b4744",
   "metadata": {},
   "outputs": [],
   "source": [
    "df2 = pd.DataFrame()"
   ]
  },
  {
   "cell_type": "code",
   "execution_count": 70,
   "id": "7965cc92-18a5-41c0-a30c-4ad8ba865649",
   "metadata": {},
   "outputs": [],
   "source": [
    "d = {}\n",
    "for i in range(2014,2020):\n",
    "    prevyr = str(i)\n",
    "    nextyr = str(i+1)\n",
    "    label = prevyr + \"-\" + nextyr\n",
    "    df2[label] = df[nextyr].sub(df[prevyr], axis = 0)\n"
   ]
  },
  {
   "cell_type": "code",
   "execution_count": 71,
   "id": "d9cfbdde-78f5-4df7-bd69-a837b704827f",
   "metadata": {},
   "outputs": [],
   "source": [
    "df2.insert(0, 'Vehicle Type', dflabel)"
   ]
  },
  {
   "cell_type": "code",
   "execution_count": 72,
   "id": "5fc1476d-96fa-4fd9-a819-601d8be93989",
   "metadata": {},
   "outputs": [],
   "source": [
    "\n",
    "df2.to_csv('Difference by year.csv')"
   ]
  },
  {
   "cell_type": "code",
   "execution_count": null,
   "id": "9303dae3-d64a-46fb-a17e-f76dfbeb2bcb",
   "metadata": {},
   "outputs": [],
   "source": []
  }
 ],
 "metadata": {
  "kernelspec": {
   "display_name": "Python 3",
   "language": "python",
   "name": "python3"
  },
  "language_info": {
   "codemirror_mode": {
    "name": "ipython",
    "version": 3
   },
   "file_extension": ".py",
   "mimetype": "text/x-python",
   "name": "python",
   "nbconvert_exporter": "python",
   "pygments_lexer": "ipython3",
   "version": "3.8.8"
  }
 },
 "nbformat": 4,
 "nbformat_minor": 5
}
