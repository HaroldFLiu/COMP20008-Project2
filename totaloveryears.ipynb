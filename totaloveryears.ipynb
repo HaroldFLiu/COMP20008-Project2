{
 "cells": [
  {
   "cell_type": "code",
   "execution_count": null,
   "metadata": {},
   "outputs": [],
   "source": [
    "import os\n",
    "import glob\n",
    "import pandas as pd\n",
    "import matplotlib.pyplot as plt"
   ]
  },
  {
   "cell_type": "code",
   "execution_count": null,
   "metadata": {},
   "outputs": [],
   "source": [
    "documents = os.chdir(\"Filtered_Road_Total/\")\n",
    "!pwd"
   ]
  },
  {
   "cell_type": "code",
   "execution_count": null,
   "metadata": {},
   "outputs": [],
   "source": [
    "extension = 'csv'\n",
    "all_filenames = [i for i in glob.glob('*.{}'.format(extension))]\n",
    "#combine all files in the list\n",
    "combined_csv = pd.concat([pd.read_csv(f) for f in all_filenames ])\n",
    "#export to csv\n",
    "os.chdir(\"..\")\n",
    "combined_csv.to_csv( \"Traffic_overtime.csv\", index=False, encoding='utf-8-sig')"
   ]
  },
  {
   "cell_type": "code",
   "execution_count": null,
   "metadata": {},
   "outputs": [],
   "source": [
    "df = pd.read_csv(\"Traffic_overtime.csv\")\n",
    "df"
   ]
  },
  {
   "cell_type": "code",
   "execution_count": null,
   "metadata": {},
   "outputs": [],
   "source": [
    "df2 = df.groupby(['NB_SCATS_SITE','QT_INTERVAL_COUNT']).agg({'QT_VOLUME_24HOUR':sum}).reset_index()\n",
    "df2"
   ]
  },
  {
   "cell_type": "code",
   "execution_count": null,
   "metadata": {},
   "outputs": [],
   "source": [
    "df2.sort_values(by=['QT_VOLUME_24HOUR','NB_SCATS_SITE','QT_INTERVAL_COUNT'], inplace=True, ascending=False)\n",
    "df2.head(25)"
   ]
  },
  {
   "cell_type": "code",
   "execution_count": null,
   "metadata": {
    "scrolled": true
   },
   "outputs": [],
   "source": [
    "#median of all top 100 roads\n",
    "median100 = df2.groupby('QT_INTERVAL_COUNT').median()/(1000)\n",
    "median100"
   ]
  },
  {
   "cell_type": "code",
   "execution_count": null,
   "metadata": {},
   "outputs": [],
   "source": [
    "# medain of only top x roads: Clearly the median over the years doesnt change much since vehicle increase isnt a large %\n",
    "df3 = df2\n",
    "df3.sort_values(by=['QT_INTERVAL_COUNT','QT_VOLUME_24HOUR','NB_SCATS_SITE'], inplace=True,ascending= False)\n",
    "df4 = df3.groupby('QT_INTERVAL_COUNT').head(10).reset_index(drop=True)\n",
    "df4.groupby('QT_INTERVAL_COUNT')['QT_VOLUME_24HOUR'].median()"
   ]
  },
  {
   "cell_type": "code",
   "execution_count": null,
   "metadata": {},
   "outputs": [],
   "source": [
    "pop = pd.read_csv(\"population_growth.csv\")\n",
    "veh_pop = pd.read_csv(\"vehicle_population_overtime.csv\")\n",
    "veh_pop"
   ]
  },
  {
   "cell_type": "code",
   "execution_count": null,
   "metadata": {},
   "outputs": [],
   "source": [
    "pop['estimated_vehicles'] = pd.Series((veh_pop['Vehicle#'])/1000)\n",
    "pop"
   ]
  },
  {
   "cell_type": "code",
   "execution_count": null,
   "metadata": {},
   "outputs": [],
   "source": []
  },
  {
   "cell_type": "code",
   "execution_count": null,
   "metadata": {},
   "outputs": [],
   "source": [
    "xAxis = [i + 0.5 for i, _ in enumerate(pop['Year'])] \n",
    "plt.plot(xAxis, median100['QT_VOLUME_24HOUR'], color='blue')\n",
    "plt.plot(xAxis, pop['estimated_vehicles'], color='red')\n",
    "plt.bar(xAxis, pop['Population'], color='teal')\n",
    "plt.title('Population growth vs vehicle growth', fontsize=14)\n",
    "plt.xlabel('Years', fontsize=14)\n",
    "plt.ylabel('Population (in 1000s)', fontsize=14)\n",
    "plt.xticks([i + 0.5 for i, _ in enumerate(pop['Year'])], pop['Year'])\n",
    "plt.show()"
   ]
  },
  {
   "cell_type": "code",
   "execution_count": null,
   "metadata": {},
   "outputs": [],
   "source": []
  }
 ],
 "metadata": {
  "kernelspec": {
   "display_name": "Python 3",
   "language": "python",
   "name": "python3"
  },
  "language_info": {
   "codemirror_mode": {
    "name": "ipython",
    "version": 3
   },
   "file_extension": ".py",
   "mimetype": "text/x-python",
   "name": "python",
   "nbconvert_exporter": "python",
   "pygments_lexer": "ipython3",
   "version": "3.7.4"
  }
 },
 "nbformat": 4,
 "nbformat_minor": 4
}
