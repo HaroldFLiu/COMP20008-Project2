{
 "cells": [
  {
   "cell_type": "code",
   "execution_count": 2,
   "metadata": {},
   "outputs": [],
   "source": [
    "import os"
   ]
  },
  {
   "cell_type": "code",
   "execution_count": 5,
   "metadata": {},
   "outputs": [
    {
     "name": "stdout",
     "output_type": "stream",
     "text": [
      "Sampled_Data_Per_Year/ already exists\n"
     ]
    }
   ],
   "source": [
    "#creates necessary folders:\n",
    "#https://stackabuse.com/creating-and-deleting-directories-with-python/\n",
    "try:\n",
    "    os.makedirs('Sampled_Data_Per_Year') \n",
    "except FileExistsError:\n",
    "    print(\"Sampled_Data_Per_Year/ already exists\")  "
   ]
  },
  {
   "cell_type": "code",
   "execution_count": 6,
   "metadata": {},
   "outputs": [
    {
     "name": "stdout",
     "output_type": "stream",
     "text": [
      "filtered_data/ already exists\n"
     ]
    }
   ],
   "source": [
    "try:\n",
    "    os.makedirs('filtered_data')\n",
    "except FileExistsError:\n",
    "    print(\"filtered_data/ already exists\")  "
   ]
  },
  {
   "cell_type": "code",
   "execution_count": null,
   "metadata": {},
   "outputs": [],
   "source": []
  }
 ],
 "metadata": {
  "kernelspec": {
   "display_name": "Python 3",
   "language": "python",
   "name": "python3"
  },
  "language_info": {
   "codemirror_mode": {
    "name": "ipython",
    "version": 3
   },
   "file_extension": ".py",
   "mimetype": "text/x-python",
   "name": "python",
   "nbconvert_exporter": "python",
   "pygments_lexer": "ipython3",
   "version": "3.7.4"
  }
 },
 "nbformat": 4,
 "nbformat_minor": 4
}
