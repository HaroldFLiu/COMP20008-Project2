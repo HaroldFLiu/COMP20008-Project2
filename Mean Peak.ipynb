{
 "cells": [
  {
   "cell_type": "code",
   "execution_count": 8,
   "metadata": {},
   "outputs": [
    {
     "name": "stdout",
     "output_type": "stream",
     "text": [
      "                 AVERAGE  MORNING_MEAN  AFTERNOON_MEAN\n",
      "AVERAGE         1.000000      0.978571        0.984718\n",
      "MORNING_MEAN    0.978571      1.000000        0.927757\n",
      "AFTERNOON_MEAN  0.984718      0.927757        1.000000\n"
     ]
    },
    {
     "data": {
      "text/plain": [
       "<matplotlib.axes._subplots.AxesSubplot at 0x7f5cbc408290>"
      ]
     },
     "metadata": {},
     "output_type": "display_data"
    },
    {
     "data": {
      "image/png": "[encoded data removed]",
      "text/plain": [
       "<Figure size 432x288 with 2 Axes>"
      ]
     },
     "metadata": {
      "needs_background": "light"
     },
     "output_type": "display_data"
    }
   ],
   "source": [
    "import pandas as pd\n",
    "df = pd.read_csv(\"TYPICAL_HOURLY_VOLUME_DATA.csv\")\n",
    "lst =[]\n",
    "for i in range(len(df)):\n",
    "    if \"SCHOOL TERM/NORMAL\" not in df[\"PERIOD_TYPE\"][i]:\n",
    "        lst.append(i)\n",
    "morning_mean= []\n",
    "afternoon_mean=[]\n",
    "data = df.drop(labels=lst, axis=0)\n",
    "data = data.reset_index()\n",
    "data = data.drop(labels=[\"index\",'0:00','1:00','2:00','3:00','4:00','5:00','6:00','7:00','10:00','11:00','12:00','13:00','14:00','19:00','20:00','21:00','22:00','23:00'], axis=1)\n",
    "sums1 = 0\n",
    "sums2 = 0\n",
    "for index, row in data.iterrows():\n",
    "    sums1 = row[7]+row[8]\n",
    "    sums2 = row[9]+row[10]+row[11]+row[12]\n",
    "    morning_mean.append(sums1/2)\n",
    "    afternoon_mean.append(sums2/4)\n",
    "    sums1 = 0\n",
    "    sums2 = 0\n",
    "avg = []\n",
    "m = 0\n",
    "for i in range(len(morning_mean)):\n",
    "    m = (morning_mean[i] + afternoon_mean[i])/2\n",
    "    avg.append(m)\n",
    "    m = 0\n",
    "data[\"AVERAGE\"] = avg\n",
    "data[\"MORNING_MEAN\"] = morning_mean\n",
    "data[\"AFTERNOON_MEAN\"] = afternoon_mean\n",
    "data[\"AVERAGE\"] = avg\n",
    "data = data.drop(labels=['DOW','8:00','9:00','15:00','16:00','17:00','18:00'], axis=1)\n",
    "\n",
    "data = data.groupby([\"HMGNS_FLOW_ID\",\"HMGNS_LNK_ID\",\"HMGNS_LNK_DESC\",\"FLOW\"]).mean().sort_values(by='AVERAGE', ascending=False)\n",
    "#data.to_csv(\"mean_volume1.csv\")\n",
    "\n",
    "\n",
    "import matplotlib.pyplot as mp\n",
    "import pandas as pd\n",
    "import seaborn as sb\n",
    "\n",
    "print(data.corr())\n",
    "dataplot = sb.heatmap(data.corr(), cmap=\"YlGnBu\", annot=True)\n",
    "display(dataplot)"
   ]
  },
  {
   "cell_type": "code",
   "execution_count": null,
   "metadata": {},
   "outputs": [],
   "source": []
  },
  {
   "cell_type": "code",
   "execution_count": 2,
   "metadata": {},
   "outputs": [
    {
     "data": {
      "text/plain": [
       "SpearmanrResult(correlation=0.10816770419260482, pvalue=0.12735621880273648)"
      ]
     },
     "execution_count": 2,
     "metadata": {},
     "output_type": "execute_result"
    }
   ],
   "source": [
    "from scipy import stats\n",
    "import numpy as np\n",
    "stats.spearmanr([1,2,3,4,5], [5,6,7,8,7])\n",
    "\n",
    "np.random.seed(1234321)\n",
    "x2n = np.random.randn(100, 2)\n",
    "y2n = np.random.randn(100, 2)\n",
    "stats.spearmanr(x2n)\n",
    "\n",
    "stats.spearmanr(x2n[:,0], x2n[:,1])\n",
    "\n",
    "rho, pval = stats.spearmanr(x2n, y2n)\n",
    "rho\n",
    "\n",
    "\n",
    "\n",
    "\n",
    "pval\n",
    "\n",
    "\n",
    "\n",
    "\n",
    "rho, pval = stats.spearmanr(x2n.T, y2n.T, axis=1)\n",
    "rho\n",
    "\n",
    "\n",
    "\n",
    "\n",
    "stats.spearmanr(x2n, y2n, axis=None)\n",
    "\n",
    "stats.spearmanr(x2n.ravel(), y2n.ravel())"
   ]
  },
  {
   "cell_type": "code",
   "execution_count": 3,
   "metadata": {},
   "outputs": [
    {
     "ename": "NameError",
     "evalue": "name 'data' is not defined",
     "output_type": "error",
     "traceback": [
      "\u001b[0;31m---------------------------------------------------------------------------\u001b[0m",
      "\u001b[0;31mNameError\u001b[0m                                 Traceback (most recent call last)",
      "\u001b[0;32m<ipython-input-3-09533712b77c>\u001b[0m in \u001b[0;36m<module>\u001b[0;34m\u001b[0m\n\u001b[1;32m      3\u001b[0m \u001b[0;32mimport\u001b[0m \u001b[0mseaborn\u001b[0m \u001b[0;32mas\u001b[0m \u001b[0msb\u001b[0m\u001b[0;34m\u001b[0m\u001b[0;34m\u001b[0m\u001b[0m\n\u001b[1;32m      4\u001b[0m \u001b[0;34m\u001b[0m\u001b[0m\n\u001b[0;32m----> 5\u001b[0;31m \u001b[0mprint\u001b[0m\u001b[0;34m(\u001b[0m\u001b[0mdata\u001b[0m\u001b[0;34m.\u001b[0m\u001b[0mcorr\u001b[0m\u001b[0;34m(\u001b[0m\u001b[0;34m)\u001b[0m\u001b[0;34m)\u001b[0m\u001b[0;34m\u001b[0m\u001b[0;34m\u001b[0m\u001b[0m\n\u001b[0m",
      "\u001b[0;31mNameError\u001b[0m: name 'data' is not defined"
     ]
    }
   ],
   "source": [
    "import matplotlib.pyplot as mp\n",
    "import pandas as pd\n",
    "import seaborn as sb\n",
    "\n",
    "print(data.corr())"
   ]
  },
  {
   "cell_type": "code",
   "execution_count": null,
   "metadata": {},
   "outputs": [],
   "source": []
  }
 ],
 "metadata": {
  "kernelspec": {
   "display_name": "Python 3",
   "language": "python",
   "name": "python3"
  },
  "language_info": {
   "codemirror_mode": {
    "name": "ipython",
    "version": 3
   },
   "file_extension": ".py",
   "mimetype": "text/x-python",
   "name": "python",
   "nbconvert_exporter": "python",
   "pygments_lexer": "ipython3",
   "version": "3.7.4"
  }
 },
 "nbformat": 4,
 "nbformat_minor": 4
}
